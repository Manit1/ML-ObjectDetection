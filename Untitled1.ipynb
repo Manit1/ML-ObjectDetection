{
 "cells": [
  {
   "cell_type": "code",
   "execution_count": 1,
   "metadata": {
    "collapsed": true
   },
   "outputs": [],
   "source": [
    "import cv2\n",
    "import numpy as np"
   ]
  },
  {
   "cell_type": "code",
   "execution_count": null,
   "metadata": {},
   "outputs": [],
   "source": [
    "#cascadeclassifier function is pointed where classifier\n",
    "face_classifier=cv2.CascadeClassifier(\"C:\\\\Users\\\\Manit\\\\Desktop\\\\Haarcascades\\\\haarcascade_frontalface_default.xml\")\n",
    "image=cv2.imread('images/TRUMP.jpg')\n",
    "gray=cv2.cvtColor(image,cv2.COLOR_BGR2GRAY)\n",
    "\n",
    "#the classifier returns the roi of the\n",
    "face=face_classifier.detectMultiScale(gray,1.3,5)\n",
    "\n",
    "if face is ():\n",
    "    print(\"no faces found\")\n",
    "#iterate through faces deteccted and draw the rectangle\n",
    "for(x,y,w,h) in face:\n",
    "    cv2.rectangle(image,(x,y),(x+w,y+h),(127,0,255),2)\n",
    "cv2.imshow(\"Here is trump\",image)\n",
    "cv2.waitKey(0)\n",
    "cv2.destroyAllWindows"
   ]
  },
  {
   "cell_type": "code",
   "execution_count": null,
   "metadata": {
    "collapsed": true
   },
   "outputs": [],
   "source": []
  }
 ],
 "metadata": {
  "kernelspec": {
   "display_name": "Python 3",
   "language": "python",
   "name": "python3"
  },
  "language_info": {
   "codemirror_mode": {
    "name": "ipython",
    "version": 3
   },
   "file_extension": ".py",
   "mimetype": "text/x-python",
   "name": "python",
   "nbconvert_exporter": "python",
   "pygments_lexer": "ipython3",
   "version": "3.6.1"
  }
 },
 "nbformat": 4,
 "nbformat_minor": 2
}
